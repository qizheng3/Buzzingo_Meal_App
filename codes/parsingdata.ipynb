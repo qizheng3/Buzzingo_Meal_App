{
 "cells": [
  {
   "cell_type": "code",
   "execution_count": 67,
   "metadata": {
    "collapsed": true
   },
   "outputs": [],
   "source": [
    "from urllib.request import Request, urlopen\n",
    "from urllib.error import URLError\n",
    "from bs4 import BeautifulSoup, Comment\n",
    "import re\n",
    "import csv\n",
    "\n",
    "url = \"https://www.gatechdining.com/images/WeeklyMenuFC4-3_tcm251-34399.htm\"\n",
    "req = Request(url)\n",
    "\n",
    "try:\n",
    "    response = urlopen(req)\n",
    "except URLError as e:\n",
    "    if hasattr(e, 'reason'):\n",
    "        print('Failed to reach a server.')\n",
    "        print('Reason: ', e.reason)\n",
    "    elif hasattr(e, 'code'):\n",
    "        print('The server couldn\\'t fulfill the request.')\n",
    "        print('Error code: ', e.code)\n",
    "    else:\n",
    "        pass       \n",
    "    \n",
    "rd = response.read()"
   ]
  },
  {
   "cell_type": "code",
   "execution_count": 68,
   "metadata": {},
   "outputs": [
    {
     "name": "stdout",
     "output_type": "stream",
     "text": [
      "Week of Monday April 3, 2017\n",
      "GEORGIA TECH-FOOD COURT - RESTAURANT\n"
     ]
    }
   ],
   "source": [
    "soup = BeautifulSoup(rd,'lxml')\n",
    "week_id = soup.find(string=re.compile(\"Week of\"))\n",
    "print(week_id)\n",
    "restaurant_name = soup.find(string=re.compile(\"RESTAURANT\"))\n",
    "if restaurant_name == None:\n",
    "    print(\"Error: fail to achieve restraurant name!\")\n",
    "else:\n",
    "    print(restaurant_name)\n",
    "\n",
    "db = soup.find(string=re.compile(\"aData=new Object\\(\\)\"))"
   ]
  },
  {
   "cell_type": "code",
   "execution_count": 69,
   "metadata": {},
   "outputs": [],
   "source": [
    "db = db.replace('aData[', '').replace(']=new Array(', ',')"
   ]
  },
  {
   "cell_type": "code",
   "execution_count": 70,
   "metadata": {},
   "outputs": [],
   "source": [
    "nutr_db = db.split(';')\n",
    "nutr_db=nutr_db[1:len(nutr_db)-1]\n",
    "nutr_db = [item.replace(\"'\", \"\").replace(\"\\r\\n\", \"\").split(',') for item in nutr_db]"
   ]
  },
  {
   "cell_type": "code",
   "execution_count": 71,
   "metadata": {},
   "outputs": [],
   "source": [
    "# nutr_db"
   ]
  },
  {
   "cell_type": "code",
   "execution_count": 72,
   "metadata": {},
   "outputs": [],
   "source": [
    "nutr_dict = {}\n",
    "for item in nutr_db:\n",
    "    item[-1]=item[-1].replace(r')', \"\")\n",
    "    nutr_dict[item[0]] = item[1:]"
   ]
  },
  {
   "cell_type": "code",
   "execution_count": 73,
   "metadata": {},
   "outputs": [],
   "source": [
    "# nutr_dict"
   ]
  },
  {
   "cell_type": "code",
   "execution_count": 74,
   "metadata": {},
   "outputs": [],
   "source": [
    "c_id = []\n",
    "for course in soup.find_all('input', onmouseover=\"wschk(1);\"):\n",
    "    c_id.append(course.get('id'))"
   ]
  },
  {
   "cell_type": "code",
   "execution_count": 75,
   "metadata": {},
   "outputs": [],
   "source": [
    "aDays = {\"1\":\"Monday\",\"2\":\"Tuesday\",\"3\":\"Wednesday\",\"4\":\"Thursday\",\"5\":\"Friday\",\"6\":\"Saturday\",\"7\":\"Sunday\"}\n",
    "aMeals = {\"B\":\"Breakfast\",\"L\":\"Lunch\",\"S\":\"Dinner\",\"X\":\"Late Night\"}\n",
    "\n",
    "menu = []\n",
    "i=0\n",
    "for ci in c_id:\n",
    "    lst = []\n",
    "    lst.extend([ci, aDays[ci[1]], aMeals[ci[2]]])\n",
    "    lst.extend(nutr_dict[ci[-16:]])\n",
    "    menu.append(lst)"
   ]
  },
  {
   "cell_type": "code",
   "execution_count": 76,
   "metadata": {},
   "outputs": [],
   "source": [
    "# ht = '''\n",
    "# <table class=\"dayinner\">\n",
    "# <tr class=\"brk\"><td colspan=\"3\" class=\"mealname\">BREAKFAST</td></tr><tr class=\"brk\"><td class=\"station\">&nbsp;Hot Cereal</td>\n",
    "# <td class=\"menuitem\">\n",
    "#    <div class=\"menuitem\">\n",
    "#    <input type=\"checkbox\" class=\"chk\" hidefocus=\"true\" id=\"S1B0000010000084926_48570\" onmouseover=\"wschk(1);\" onmouseout=\"wschk(0);\" onclick=\"rptlist(this);\" />\n",
    "#    <span class=\"ul\" onmouseover=\"ws(this);\" onclick=\"nf('0000084926_48570');\" onmouseout=\"pcls(this);\">Blueberries & Cream Oatmeal</span><img class=\"icon\" src=\"v.gif\" alt=\"Vegetarian\" /><img class=\"icon\" src=\"m.gif\" alt=\"Mindful Item\" /></div></td>\n",
    "#    <td class=\"price\"></td></tr>\n",
    "# <tr class=\"brk\"><td class=\"station\">&nbsp;</td>\n",
    "# <td class=\"menuitem\">\n",
    "#    <div class=\"menuitem\">\n",
    "#    <input type=\"checkbox\" class=\"chk\" hidefocus=\"true\" id=\"S1B0000020000048637_41502\" onmouseover=\"wschk(1);\" onmouseout=\"wschk(0);\" onclick=\"rptlist(this);\" />\n",
    "#    <span class=\"ul\" onmouseovefr=\"ws(this);\" onclick=\"nf('0000048637_41502');\" onmouseout=\"pcls(this);\">Classic Grits</span><img class=\"icon\" src=\"g.gif\" alt=\"Vegan\" /><img class=\"icon\" src=\"m.gif\" alt=\"Mindful Item\" /></div></td>\n",
    "#    <td class=\"price\"></td></tr>\n",
    "# '''\n",
    "\n",
    "# sp = BeautifulSoup(ht,'lxml')\n",
    "# for i in sp.find_all('input', onmouseover=\"wschk(1);\"):\n",
    "#     print(i)\n",
    "#     p=i.input\n",
    "#     print(p)"
   ]
  },
  {
   "cell_type": "code",
   "execution_count": 77,
   "metadata": {},
   "outputs": [],
   "source": [
    "# for item in menu[:3]:\n",
    "#     print(item)"
   ]
  },
  {
   "cell_type": "code",
   "execution_count": 78,
   "metadata": {},
   "outputs": [],
   "source": [
    "headers = [\"Course ID\", \"Day in Week\", \"Meal\", \"Serving Size\", \"Calories\", \"Calories from Fat\", \"Total Fat(g)\", \"% DV\", \n",
    "           \"Saturated Fat(g)\", \"% DV\", \"Trans Fat\", \"Cholesterol(mg)\", \"% DV\", \"Sodium(mg)\", \"% DV\", \n",
    "           \"Total Carbohydrates(g)\", \"% DV\", \"Dietary Fiber(g)\", \"% DV\", \"Sugars (g)\", \"Protein(g)\", \"Vitamin A(%DV)\",\n",
    "           \"Vitamin C(%DV)\", \"Calcium(%DV)\", \"Iron(%DV)\", \"Course Name\", \"Description\", \"Special\"]\n",
    "\n",
    "menu = [item[:27]+[item[-1]] for item in menu]"
   ]
  },
  {
   "cell_type": "code",
   "execution_count": 79,
   "metadata": {},
   "outputs": [],
   "source": [
    "import csv\n",
    "fname = \"FOOD COURT RESTAURANTS.csv\"\n",
    "with open(fname, 'w', newline='') as csvfile:\n",
    "    wrt = csv.writer(csvfile, delimiter=';', dialect='excel')\n",
    "    wrt.writerow(headers)\n",
    "    wrt.writerows(menu)\n",
    "csvfile.close()"
   ]
  },
  {
   "cell_type": "code",
   "execution_count": null,
   "metadata": {
    "collapsed": true
   },
   "outputs": [],
   "source": []
  },
  {
   "cell_type": "code",
   "execution_count": null,
   "metadata": {
    "collapsed": true
   },
   "outputs": [],
   "source": []
  }
 ],
 "metadata": {
  "kernelspec": {
   "display_name": "Python 3",
   "language": "python",
   "name": "python3"
  },
  "language_info": {
   "codemirror_mode": {
    "name": "ipython",
    "version": 3
   },
   "file_extension": ".py",
   "mimetype": "text/x-python",
   "name": "python",
   "nbconvert_exporter": "python",
   "pygments_lexer": "ipython3",
   "version": "3.6.1"
  }
 },
 "nbformat": 4,
 "nbformat_minor": 2
}
